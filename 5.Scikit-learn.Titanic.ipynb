{
 "cells": [
  {
   "cell_type": "markdown",
   "id": "174c4c82-798b-4a17-952a-de57fe57856e",
   "metadata": {},
   "source": [
    "##### Introduction\n",
    "##### Plan:\n",
    "##### 1.Import\n",
    "##### 1.1.Import of Required Modules - Импорт необходимых модулей\n",
    "##### 1.2.Importing (Reading) Data - Импорт (чтение) данных\n",
    "##### 2.Exploratory Analysis - Исследовательский анализ\n",
    "##### 2.1.Data Visualization - Визуализация данных\n",
    "##### 3.Data Cleaning - Очистка данных\n",
    "##### 4.Feature Engineering / Feature Selection - Проектирование свойств (фичей) / Выбор свойств (фичей)\n",
    "##### 5.Machine Learning Models - Модели машинного обучения\n",
    "##### 6.Evaluate & Interpret Results - Оценка и интерпретация результатов\n",
    "##### 7.(if necessary) Define the Question of Interest/Goal - (при необходимости) Определение интересующего Вас вопроса/цели"
   ]
  },
  {
   "cell_type": "markdown",
   "id": "6d7d6581",
   "metadata": {},
   "source": [
    "### Introduction\n"
   ]
  },
  {
   "cell_type": "markdown",
   "id": "cd67afe3",
   "metadata": {},
   "source": [
    "### 1.Import"
   ]
  },
  {
   "cell_type": "markdown",
   "id": "a075b542",
   "metadata": {},
   "source": [
    "### 1.1.Import of Required Modules"
   ]
  },
  {
   "cell_type": "code",
   "execution_count": null,
   "id": "940807e5",
   "metadata": {},
   "outputs": [],
   "source": [
    "import numpy as np                  # импортируем numpy\n",
    "import matplotlib.pyplot as plt     # импортируем matplotlib.pyplot\n",
    "import pandas as pd                 # импортируем pandas\n",
    "import seaborn as sns               # импорт seaborn"
   ]
  },
  {
   "cell_type": "markdown",
   "id": "dde36887",
   "metadata": {},
   "source": [
    "### 1.2.Importing (Reading) Data"
   ]
  },
  {
   "cell_type": "code",
   "execution_count": null,
   "id": "f0d0edf8",
   "metadata": {},
   "outputs": [],
   "source": [
    "df = pd.read_csv('data/train.csv')"
   ]
  },
  {
   "cell_type": "code",
   "execution_count": null,
   "id": "443a4041",
   "metadata": {},
   "outputs": [],
   "source": [
    "test_df = pd.read_csv('data/test.csv')"
   ]
  },
  {
   "cell_type": "markdown",
   "id": "fdaa31a3",
   "metadata": {},
   "source": [
    "### 2.Exploratory Analysis "
   ]
  },
  {
   "cell_type": "code",
   "execution_count": null,
   "id": "c2652a06",
   "metadata": {},
   "outputs": [],
   "source": [
    "type(df)"
   ]
  },
  {
   "cell_type": "code",
   "execution_count": null,
   "id": "df447a5c",
   "metadata": {
    "scrolled": true
   },
   "outputs": [],
   "source": [
    "df\n",
    "# в столбце Survived 0 обозначает умерших, а 1 — выживших"
   ]
  },
  {
   "cell_type": "code",
   "execution_count": null,
   "id": "cea862ca",
   "metadata": {},
   "outputs": [],
   "source": [
    "df.values"
   ]
  },
  {
   "cell_type": "code",
   "execution_count": null,
   "id": "2312f803",
   "metadata": {
    "scrolled": true
   },
   "outputs": [],
   "source": [
    "df.info()            # функция info выдаёт общую информацию о DataFrame"
   ]
  },
  {
   "cell_type": "code",
   "execution_count": null,
   "id": "b76b11fe",
   "metadata": {
    "scrolled": true
   },
   "outputs": [],
   "source": [
    "df.shape     # функция shape возвращает размер - это пара (кол-во строк, кол-во колонок)"
   ]
  },
  {
   "cell_type": "code",
   "execution_count": null,
   "id": "c891d5c1",
   "metadata": {
    "scrolled": true
   },
   "outputs": [],
   "source": [
    "df.columns   # функция columns возвращает список всех колонок"
   ]
  },
  {
   "cell_type": "code",
   "execution_count": null,
   "id": "227e6ae8",
   "metadata": {
    "scrolled": true
   },
   "outputs": [],
   "source": [
    "df.head(3)  # функция head возвращает первые (3) строки"
   ]
  },
  {
   "cell_type": "code",
   "execution_count": null,
   "id": "d8f4181e",
   "metadata": {},
   "outputs": [],
   "source": [
    "df.tail(3)  # функция tail возвращает последние (3) строки"
   ]
  },
  {
   "cell_type": "code",
   "execution_count": null,
   "id": "c4109ef6",
   "metadata": {
    "scrolled": true
   },
   "outputs": [],
   "source": [
    "df.dtypes    # функция dtypes возвращает все типы данных из DataFrame"
   ]
  },
  {
   "cell_type": "code",
   "execution_count": null,
   "id": "95eb3857",
   "metadata": {
    "scrolled": true
   },
   "outputs": [],
   "source": [
    "df.loc[[1,3,2]]  # выводим интересующую информацию только по строкам\n",
    "                 # при этом очерёдность строк можно задавать произвольно"
   ]
  },
  {
   "cell_type": "code",
   "execution_count": null,
   "id": "40357439",
   "metadata": {},
   "outputs": [],
   "source": [
    "df.iloc[[1,3,2],[0, 3, 4, 1]]  # выводим интересующую информацию по строкам по индексам\n",
    "                               # при этом очерёдность строк и столбцов можно задавать произвольно"
   ]
  },
  {
   "cell_type": "markdown",
   "id": "ff5bd384",
   "metadata": {},
   "source": [
    "### 2.1.Data Visualization"
   ]
  },
  {
   "cell_type": "code",
   "execution_count": null,
   "id": "123a6db0",
   "metadata": {},
   "outputs": [],
   "source": [
    "df['Age'].plot(kind='hist', bins=20)     # we build a histogram of the distribution of the age of passengers, the number of columns can be specified"
   ]
  },
  {
   "cell_type": "code",
   "execution_count": null,
   "id": "25356df8",
   "metadata": {},
   "outputs": [],
   "source": [
    "df['Age'].plot(kind='kde')    # graph - age distribution\n",
    "# будет построен график оценки плотности ядра (KDE).\n",
    "# Он визуализирует плотность вероятности непрерывной и непараметрической переменной данных. "
   ]
  },
  {
   "cell_type": "code",
   "execution_count": null,
   "id": "9ada5556",
   "metadata": {},
   "outputs": [],
   "source": [
    "df.groupby('Sex')['Age'].plot(kind='kde', xlim=[0,100], legend=True) # graph - age distribution, you can specify the boundaries, for men and women\n"
   ]
  },
  {
   "cell_type": "code",
   "execution_count": null,
   "id": "d6cc93a9",
   "metadata": {},
   "outputs": [],
   "source": [
    "df['Pclass'].value_counts().plot.pie(legend=True) # Distribution of passengers by cabin classes in a pie chart"
   ]
  },
  {
   "cell_type": "code",
   "execution_count": null,
   "id": "8bd6310d",
   "metadata": {},
   "outputs": [],
   "source": [
    "df['Survived'].value_counts().plot.pie(legend=True)  \n",
    "# Distribution of passengers into survivors and non-survivors on a pie chart\n",
    "# в столбце Survived 0 обозначает умерших, а 1 — выживших"
   ]
  },
  {
   "cell_type": "markdown",
   "id": "e032bd1f",
   "metadata": {},
   "source": [
    "### 3.Data Cleaning "
   ]
  },
  {
   "cell_type": "code",
   "execution_count": null,
   "id": "204549cc",
   "metadata": {
    "scrolled": true
   },
   "outputs": [],
   "source": [
    "df.info()"
   ]
  },
  {
   "cell_type": "code",
   "execution_count": null,
   "id": "28865bc0",
   "metadata": {
    "scrolled": true
   },
   "outputs": [],
   "source": [
    "df.isnull().sum()   # we get the total number of NaN elements in X"
   ]
  },
  {
   "cell_type": "code",
   "execution_count": null,
   "id": "718e9b3e",
   "metadata": {},
   "outputs": [],
   "source": [
    "# replacing the NaN values in the 'Age' column with the average value\n",
    "df['Age'].fillna(df['Age'].median(), inplace = True)\n",
    "df.isnull().sum()   # we make sure that now there are no NaN values in the 'Age' column"
   ]
  },
  {
   "cell_type": "code",
   "execution_count": null,
   "id": "267d21d6",
   "metadata": {},
   "outputs": [],
   "source": [
    "# deleting uninformative columns if we think it is possible to do so\n",
    "#  столбцы Name, Ticket и Cabin обозначают имяб номер билета и каюта\n",
    "df = df.drop(['Name', 'Ticket', 'Cabin'], axis = 1)"
   ]
  },
  {
   "cell_type": "code",
   "execution_count": null,
   "id": "e4b6c8a3",
   "metadata": {
    "scrolled": true
   },
   "outputs": [],
   "source": [
    "df.head(3)"
   ]
  },
  {
   "cell_type": "markdown",
   "id": "0cdb0723",
   "metadata": {},
   "source": [
    "### 4.Feature Engineering / Feature Selection "
   ]
  },
  {
   "cell_type": "code",
   "execution_count": null,
   "id": "c1d8df0a",
   "metadata": {},
   "outputs": [],
   "source": [
    "# Pre-processing\n",
    "# Recoding categorical features\n",
    "df['Sex'].value_counts()"
   ]
  },
  {
   "cell_type": "code",
   "execution_count": null,
   "id": "9d246c08",
   "metadata": {},
   "outputs": [],
   "source": [
    "sex_mapping = {'male':0, \"female\":1}\n",
    "df['Sex'] = df['Sex'].map(sex_mapping)"
   ]
  },
  {
   "cell_type": "code",
   "execution_count": null,
   "id": "b02011b6",
   "metadata": {},
   "outputs": [],
   "source": [
    "df.head(3)"
   ]
  },
  {
   "cell_type": "code",
   "execution_count": null,
   "id": "0d2e8306",
   "metadata": {},
   "outputs": [],
   "source": [
    "# Recoding categorical features\n",
    "# Столбец Embarked в датасете «Титаник» обозначает порт посадки пассажира\n",
    "df['Embarked'].value_counts()"
   ]
  },
  {
   "cell_type": "code",
   "execution_count": null,
   "id": "dbc108ff",
   "metadata": {
    "scrolled": true
   },
   "outputs": [],
   "source": [
    "# Recoding categorical features \n",
    "# Here we actually create three new binary  features  instead of one 'Embarked' feature\n",
    "Embarked_dummies = pd.get_dummies(df['Embarked'], prefix='port', dummy_na = False)\n",
    "Embarked_dummies.head(3)"
   ]
  },
  {
   "cell_type": "code",
   "execution_count": null,
   "id": "41fac400",
   "metadata": {},
   "outputs": [],
   "source": [
    "df.head(3)"
   ]
  },
  {
   "cell_type": "code",
   "execution_count": null,
   "id": "f8dafd4a",
   "metadata": {},
   "outputs": [],
   "source": [
    "# we combine our data in df with the created DataFrame Embarked_dummies\n",
    "df = pd.concat([df, Embarked_dummies], axis=1)"
   ]
  },
  {
   "cell_type": "code",
   "execution_count": null,
   "id": "71e0cbbf",
   "metadata": {},
   "outputs": [],
   "source": [
    "# We delete the 'Embarked' column, since now in our Data Frame this  feature  is recoded into 3 new columns \n",
    "df = df.drop(['Embarked'], axis=1)\n",
    "df.head(3)"
   ]
  },
  {
   "cell_type": "markdown",
   "id": "810a296b",
   "metadata": {},
   "source": [
    "### 5.Machine Learning Models"
   ]
  },
  {
   "cell_type": "code",
   "execution_count": null,
   "id": "b7c88379",
   "metadata": {},
   "outputs": [],
   "source": [
    "from sklearn.metrics import accuracy_score"
   ]
  },
  {
   "cell_type": "code",
   "execution_count": null,
   "id": "83be87b3",
   "metadata": {},
   "outputs": [],
   "source": [
    "# In this kernel we create a model - k nearest neighbors\n",
    "df"
   ]
  },
  {
   "cell_type": "code",
   "execution_count": null,
   "id": "76700b9f",
   "metadata": {},
   "outputs": [],
   "source": [
    "X = df.drop(['Survived'], axis=1)\n",
    "y = df['Survived']"
   ]
  },
  {
   "cell_type": "code",
   "execution_count": null,
   "id": "e8d23453",
   "metadata": {
    "scrolled": true
   },
   "outputs": [],
   "source": [
    "X"
   ]
  },
  {
   "cell_type": "code",
   "execution_count": null,
   "id": "d4ec2863",
   "metadata": {},
   "outputs": [],
   "source": [
    "y"
   ]
  },
  {
   "cell_type": "code",
   "execution_count": null,
   "id": "eef5b15f",
   "metadata": {},
   "outputs": [],
   "source": [
    "# Dividing the original DataFrame by X_trail, X_test, y_train, y_test\n",
    "# The original X is divided into X_trail, X_test in a certain proportion (in our case 75% and 25%)\n",
    "from sklearn.model_selection import train_test_split\n",
    "X_train, X_test, y_train, y_test = train_test_split(X, y, test_size = 0.25, random_state = 0)"
   ]
  },
  {
   "cell_type": "code",
   "execution_count": null,
   "id": "88505887",
   "metadata": {},
   "outputs": [],
   "source": [
    "len(X_train)"
   ]
  },
  {
   "cell_type": "code",
   "execution_count": null,
   "id": "dbed573e",
   "metadata": {},
   "outputs": [],
   "source": [
    "len(X_test)"
   ]
  },
  {
   "cell_type": "code",
   "execution_count": null,
   "id": "998c184f",
   "metadata": {},
   "outputs": [],
   "source": [
    "# In this kernel we create a model - k nearest neighbors\n",
    "# n_neighbors=1\n",
    "from sklearn.neighbors import KNeighborsClassifier\n",
    "knn = KNeighborsClassifier(n_neighbors=1)   \n",
    "# creating an instance object of the KNeighborsClassifier class from the neighbours module"
   ]
  },
  {
   "cell_type": "code",
   "execution_count": null,
   "id": "d70e98c7",
   "metadata": {},
   "outputs": [],
   "source": [
    "# the fit method trains the model\n",
    "# the fit method returns the knn object itself (and modifies it)\n",
    "knn.fit(X_train, y_train)           "
   ]
  },
  {
   "cell_type": "code",
   "execution_count": null,
   "id": "cc9e3b1a",
   "metadata": {},
   "outputs": [],
   "source": [
    "y_pred = knn.predict(X_test)        # the predict method makes a prediction for test set\n",
    "acc_knn = accuracy_score(y_pred, y_test)\n",
    "print(\"Accuracy on the test set: {:.2f}\".format(acc_knn))\n",
    "#knn.score(X_test, y_test)           # the score method of the knn object, which calculates the accuracy  of the model for the test set\n",
    "#print(\"Accuracy on the test set: {:.2f}\".format(knn.score(X_test, y_test)))"
   ]
  },
  {
   "cell_type": "code",
   "execution_count": null,
   "id": "ee2512c4",
   "metadata": {},
   "outputs": [],
   "source": [
    "y_pred\n",
    "# в столбце Survived 0 обозначает умерших, а 1 — выживших\n",
    "# в массиве y_pred 0 обозначает умерших, а 1 — выживших"
   ]
  },
  {
   "cell_type": "markdown",
   "id": "a638a2b8",
   "metadata": {},
   "source": [
    "### 6.Evaluate & Interpret Results"
   ]
  },
  {
   "cell_type": "code",
   "execution_count": null,
   "id": "bbb787de",
   "metadata": {},
   "outputs": [],
   "source": [
    "training_accuracy = []\n",
    "test_accuracy = []\n",
    "# trying n_neighbors from 1 to 35\n",
    "neighbors_settings = range(1, 36)\n",
    "for n_neighbors in neighbors_settings:\n",
    "    # building a model\n",
    "    knn = KNeighborsClassifier(n_neighbors=n_neighbors)\n",
    "    knn.fit(X_train, y_train)\n",
    "    # we record the correctness on the training set\n",
    "    training_accuracy.append(knn.score(X_train, y_train))\n",
    "    # we record the correctness on the test set\n",
    "    test_accuracy.append(knn.score(X_test, y_test))\n",
    "plt.plot(neighbors_settings, training_accuracy, label=\"accuracy on the training set\")\n",
    "plt.plot(neighbors_settings, test_accuracy, label=\"accuracy on the test set\")\n",
    "plt.ylabel(\"accuracy\")\n",
    "plt.xlabel(\"number of neighbors\")\n",
    "plt.legend()"
   ]
  },
  {
   "cell_type": "code",
   "execution_count": null,
   "id": "30311115",
   "metadata": {},
   "outputs": [],
   "source": [
    "# The graph shows that the maximum accuracy on the test set is achieved with the number of neighbors equal to 23\n",
    "# n_neighbors=1\n",
    "from sklearn.neighbors import KNeighborsClassifier\n",
    "knn = KNeighborsClassifier(n_neighbors=23)   "
   ]
  },
  {
   "cell_type": "code",
   "execution_count": null,
   "id": "7e47bce5",
   "metadata": {},
   "outputs": [],
   "source": [
    "# the fit method trains the model\n",
    "# the fit method returns the knn object itself (and modifies it)\n",
    "knn.fit(X_train, y_train) "
   ]
  },
  {
   "cell_type": "code",
   "execution_count": null,
   "id": "72207c50",
   "metadata": {},
   "outputs": [],
   "source": [
    "y_pred = knn.predict(X_test)        # the predict method makes a prediction for test set\n",
    "knn.score(X_test, y_test)           # the score method of the knn object, which calculates the accuracy  of the model for the test set\n",
    "print(\"Accuracy on the test set: {:.2f}\".format(knn.score(X_test, y_test)))"
   ]
  },
  {
   "cell_type": "markdown",
   "id": "201ed761",
   "metadata": {},
   "source": [
    "### Selection of parameters\n",
    "In this work, I did not consider other parameters."
   ]
  },
  {
   "cell_type": "markdown",
   "id": "117ae513",
   "metadata": {},
   "source": [
    "### 7.(if necessary) Define the Question of Interest/Goal\n",
    "I did not fill in this section in this Notebook."
   ]
  },
  {
   "cell_type": "markdown",
   "id": "ba260895",
   "metadata": {},
   "source": [
    "### Submission"
   ]
  },
  {
   "cell_type": "code",
   "execution_count": null,
   "id": "f096a063",
   "metadata": {},
   "outputs": [],
   "source": [
    "test_df"
   ]
  },
  {
   "cell_type": "code",
   "execution_count": null,
   "id": "1167c166",
   "metadata": {},
   "outputs": [],
   "source": [
    "test_df.info()"
   ]
  },
  {
   "cell_type": "code",
   "execution_count": null,
   "id": "7fbac780",
   "metadata": {},
   "outputs": [],
   "source": [
    "test_df.isnull().sum()   # we get the total number of NaN elements in X"
   ]
  },
  {
   "cell_type": "code",
   "execution_count": null,
   "id": "df4c3e29",
   "metadata": {},
   "outputs": [],
   "source": [
    "test_df['Age'].fillna(df['Age'].median(), inplace = True)\n",
    "test_df['Fare'].fillna(df['Fare'].median(), inplace = True)\n",
    "test_df = test_df.drop(['Name', 'Ticket', 'Cabin'], axis = 1)"
   ]
  },
  {
   "cell_type": "code",
   "execution_count": null,
   "id": "4f0edc97",
   "metadata": {},
   "outputs": [],
   "source": [
    "sex_mapping = {'male':0, \"female\":1}\n",
    "test_df['Sex'] = test_df['Sex'].map(sex_mapping)"
   ]
  },
  {
   "cell_type": "code",
   "execution_count": null,
   "id": "21a65af0",
   "metadata": {},
   "outputs": [],
   "source": [
    "test_df['Embarked'].value_counts()"
   ]
  },
  {
   "cell_type": "code",
   "execution_count": null,
   "id": "31539613",
   "metadata": {},
   "outputs": [],
   "source": [
    "Embarked_dummies = pd.get_dummies(test_df['Embarked'], prefix='port', dummy_na = False)\n",
    "test_df = pd.concat([test_df, Embarked_dummies], axis=1)\n",
    "test_df = test_df.drop(['Embarked'], axis=1)\n",
    "test_df"
   ]
  },
  {
   "cell_type": "code",
   "execution_count": null,
   "id": "6a3b3759",
   "metadata": {
    "scrolled": true
   },
   "outputs": [],
   "source": [
    "test_df"
   ]
  },
  {
   "cell_type": "code",
   "execution_count": null,
   "id": "ca03ebf2",
   "metadata": {
    "scrolled": true
   },
   "outputs": [],
   "source": [
    "test_df.isnull().sum()   # we get the total number of NaN elements in X"
   ]
  },
  {
   "cell_type": "code",
   "execution_count": null,
   "id": "d484ec5a",
   "metadata": {},
   "outputs": [],
   "source": [
    "test_X = test_df"
   ]
  },
  {
   "cell_type": "code",
   "execution_count": null,
   "id": "26ea0f32",
   "metadata": {},
   "outputs": [],
   "source": [
    "# In this kernel we create a model - k nearest neighbors\n",
    "# n_neighbors=19\n",
    "# from sklearn.neighbors import KNeighborsClassifier\n",
    "# knn = KNeighborsClassifier(n_neighbors=19)   \n",
    "# creating an instance object of the KNeighborsClassifier class from the neighbours module"
   ]
  },
  {
   "cell_type": "code",
   "execution_count": null,
   "id": "a02e512a",
   "metadata": {},
   "outputs": [],
   "source": [
    "pred_y = knn.predict(test_X)        # the prediction method makes a prediction for the test set specified by the kaggle.com\n",
    "#knn.score(test_X, pred_y)           # the score method of the knn object, which calculates the accuracy  of the model for the test set"
   ]
  },
  {
   "cell_type": "code",
   "execution_count": null,
   "id": "21850d32",
   "metadata": {},
   "outputs": [],
   "source": [
    "test_X"
   ]
  },
  {
   "cell_type": "code",
   "execution_count": null,
   "id": "ff1916b9",
   "metadata": {
    "scrolled": true
   },
   "outputs": [],
   "source": [
    "pred_y"
   ]
  },
  {
   "cell_type": "code",
   "execution_count": null,
   "id": "3c530593",
   "metadata": {},
   "outputs": [],
   "source": [
    "test_X.to_csv('data/abc.csv', index=False)"
   ]
  },
  {
   "cell_type": "code",
   "execution_count": null,
   "id": "857605f1",
   "metadata": {},
   "outputs": [],
   "source": [
    "submission = pd.DataFrame({\n",
    "         \"PassengerId\": test_X[\"PassengerId\"],\n",
    "         \"Survived\": pred_y\n",
    "     })\n",
    "# submission.to_csv('titanic.csv', index=False) # in this form, we write the string on kaggle.com\n",
    "submission.to_csv('data/titanic1.csv', index=False)"
   ]
  },
  {
   "cell_type": "code",
   "execution_count": null,
   "id": "f35b0002",
   "metadata": {},
   "outputs": [],
   "source": [
    "submission.head()"
   ]
  },
  {
   "cell_type": "code",
   "execution_count": null,
   "id": "dfa5e473",
   "metadata": {},
   "outputs": [],
   "source": []
  }
 ],
 "metadata": {
  "kernelspec": {
   "display_name": "Python 3 (ipykernel)",
   "language": "python",
   "name": "python3"
  },
  "language_info": {
   "codemirror_mode": {
    "name": "ipython",
    "version": 3
   },
   "file_extension": ".py",
   "mimetype": "text/x-python",
   "name": "python",
   "nbconvert_exporter": "python",
   "pygments_lexer": "ipython3",
   "version": "3.12.2"
  }
 },
 "nbformat": 4,
 "nbformat_minor": 5
}
